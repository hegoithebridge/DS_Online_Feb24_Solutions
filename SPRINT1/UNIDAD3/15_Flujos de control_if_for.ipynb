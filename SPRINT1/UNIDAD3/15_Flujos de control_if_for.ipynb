{
 "cells": [
  {
   "cell_type": "markdown",
   "metadata": {},
   "source": [
    "<img src = \"./img/TheBridge_logo_RGB_color.jpg\" width = 300>\n",
    "<img src = \"./img/python.jpg\" width = 300>"
   ]
  },
  {
   "cell_type": "markdown",
   "metadata": {},
   "source": [
    "# Python: Flujos de Control\n",
    "\n",
    "\n",
    "\n",
    "Hasta ahora hemos visto cómo ejecutar un programa secuencialmente, empieza en la primera línea y acaba en la última. Pero ¿y si queremos que cambien los outputs del programa en función de ciertas condiciones, o si queremos que tome otros caminos en caso de encontrar errores?. Todo esto lo podremos hacer con los flujos de control. Sentencias que encontrarás en todos los lenguajes de programación.\n",
    "\n",
    "Este notebook nos va a servir para tratar las sentencias if y los bucles for, el corazón de la programación.\n"
   ]
  },
  {
   "cell_type": "markdown",
   "metadata": {},
   "source": [
    "## Contenidos"
   ]
  },
  {
   "cell_type": "markdown",
   "metadata": {},
   "source": [
    "* [1. Sintaxis de línea](#1.-Sintaxis-de-línea)\n",
    "\n",
    "* [2. if/elif/else](#2.-if/elif/else)\n",
    "\n",
    "* [3. Bucle for](#3.-Bucle-for)\n",
    "\n"
   ]
  },
  {
   "cell_type": "markdown",
   "metadata": {},
   "source": [
    "## 1. Sintaxis de línea\n",
    "\n",
    "[al indice](#Contenidos)  \n",
    "\n",
    "La manera en la que Python encapsula todo el código que va dentro de un flujo de control como `if` o `for` es diferente a como se suele hacer en otros lenguajes, en los que se rodea de llaves `{}` o paréntesis `()` todo el contenido del flujo. Con Python no. En Python simplemente hay que añadir una tabulación a cada línea de código que vaya dentro del flujo de control.\n",
    "\n",
    "> ```Python\n",
    "> if 3>2:\n",
    ">     \"Código dentro de esta sentencia if\"\n",
    ">     \"Esta línea sigue dentro de la sentencia if\"\n",
    ">\n",
    ">\"Código fuera de la sentencia if\"\n",
    "> ```"
   ]
  },
  {
   "cell_type": "code",
   "execution_count": 5,
   "metadata": {},
   "outputs": [
    {
     "name": "stdout",
     "output_type": "stream",
     "text": [
      "La condición era verdadera\n",
      "Final del programa\n"
     ]
    }
   ],
   "source": [
    "if True:\n",
    "    print(\"La condición era verdadera\")\n",
    "else:\n",
    "    print(\"La condición era falsa\")\n",
    "print(\"Final del programa\")"
   ]
  },
  {
   "cell_type": "markdown",
   "metadata": {},
   "source": [
    "### Sintaxis\n",
    "Toda sentencia `if`, `for`, `while`, `try`, etc. lleva dos puntos. Y después de los dos puntos, tabulado, va todo el contenido de ese bloque. **Siempre**.\n",
    "\n",
    "Si pones los dos puntos y le das a enter, Jupyter automáticamente te tabula todo lo que vayas a escribir a continuación.\n",
    "\n",
    "Veamos un ejemplo. Tenemos una lista de numeros, y queremos ver cuáles son enteros. Para ello los recorremos con un `for` (vermos más en profundiad en este notebook). Vamos iternando uno a uno cada elemento. Luego mediante un `if` comprobamos si es entero. Fíjate que todo lo que va dentro del `for` lleva una tabulación y lo que va dentro del `if` lleva dos tabulaciones, puesto que sus sentencias van tanto dentro del `if`, como dentro del `for`."
   ]
  },
  {
   "cell_type": "code",
   "execution_count": 8,
   "metadata": {},
   "outputs": [
    {
     "name": "stdout",
     "output_type": "stream",
     "text": [
      "El bucle for se va a ejecutar 6 veces. Una por cada elemento.\n",
      "Comienza iteración con 4\n",
      "El numero 4 es un entero\n",
      "Finalizada iteración con 4\n",
      "\n",
      "Comienza iteración con 6\n",
      "El numero 6 es un entero\n",
      "Finalizada iteración con 6\n",
      "\n",
      "Comienza iteración con 4.0\n",
      "El número no es un entero\n",
      "Finalizada iteración con 4.0\n",
      "\n",
      "Comienza iteración con 3.0\n",
      "El número no es un entero\n",
      "Finalizada iteración con 3.0\n",
      "\n",
      "Comienza iteración con Buenos días\n",
      "El número no es un entero\n",
      "Finalizada iteración con Buenos días\n",
      "\n",
      "Comienza iteración con [3, 4]\n",
      "El número no es un entero\n",
      "Finalizada iteración con [3, 4]\n",
      "\n",
      "Finaliza celda\n"
     ]
    }
   ],
   "source": [
    "numeros = [4, 6, 4.0, 3.0,\"Buenos días\",[3,4]]\n",
    "print(f\"El bucle for se va a ejecutar {len(numeros)} veces. Una por cada elemento.\")\n",
    "\n",
    "for elemento in numeros:\n",
    "    print(\"Comienza iteración con\",elemento)\n",
    "    if type(elemento) == int:        \n",
    "        print(\"El numero\", elemento, \"es un entero\")\n",
    "    else: \n",
    "        print(\"El número no es un entero\")\n",
    "    print(\"Finalizada iteración con\", elemento)\n",
    "    print()\n",
    "\n",
    "print(\"Finaliza celda\")"
   ]
  },
  {
   "cell_type": "markdown",
   "metadata": {},
   "source": [
    "<table align=\"left\">\n",
    " <tr>\n",
    "     <td style=\"text-align:left\">\n",
    "         <h3>ERRORES ¿Qué ocurre si nos olvidamos de tabular?</h3>\n",
    "         \n",
    " </td></tr>\n",
    "</table>"
   ]
  },
  {
   "cell_type": "code",
   "execution_count": 10,
   "metadata": {},
   "outputs": [
    {
     "name": "stdout",
     "output_type": "stream",
     "text": [
      "verdadero\n"
     ]
    }
   ],
   "source": [
    "if True:\n",
    "    print(\"verdadero\")"
   ]
  },
  {
   "cell_type": "markdown",
   "metadata": {},
   "source": [
    "### ¿Tabulaciones o espacios?\n",
    "Cuidado con las tabulaciones ya que cuando pasamos de un editor de Python a otro, o cuando ejecutamos un corrector de estilo sobre nuestro código, hay veces que las tabulaciones dan problemas. Es por ello que muchos programadores en vez de usar tabulaciones, los sustituyen por 4 espacios. \n",
    "\n",
    "Entonces, ¿qué usamos? Lo más cómo es añadir una tabulación, para algunos lo más correcto son espacios. En Jupyter esto es bastante transparente para nosotros ya que cuando añadimos una tabulación, realmente Jupyter lo traduce a 4 espacios, por lo que no debería ser un tema preocupante"
   ]
  },
  {
   "cell_type": "markdown",
   "metadata": {},
   "source": [
    "## 2. if/elif/else\n",
    "\n",
    "[al indice](#Contenidos)  \n",
    "\n",
    "En función de lo que valgan unas condiciones booleanas, ejecutaremos unas líneas de código, u otras. La sintaxis es muy sencilla:\n",
    "\n",
    "\n",
    "> ```Python\n",
    "> if condiciones:\n",
    ">     Si se cumplen las condiciones, ejecuta este código\n",
    "> else:\n",
    ">     Si no, ejecutas estre otro código\n",
    "> ```\n",
    "    \n",
    "Veamos un ejemplo"
   ]
  },
  {
   "cell_type": "code",
   "execution_count": 12,
   "metadata": {},
   "outputs": [
    {
     "name": "stdout",
     "output_type": "stream",
     "text": [
      "Se cumple la condición 1 y no la 2\n"
     ]
    }
   ],
   "source": [
    "condicion_1 = True\n",
    "condicion_2 = False\n",
    "\n",
    "if condicion_1 and not condicion_2:\n",
    "    print(\"Se cumple la condición 1 y no la 2\")"
   ]
  },
  {
   "cell_type": "markdown",
   "metadata": {},
   "source": [
    "Únicamente se ejecuta la parte de código que consigue un `True` en la condición. `print(\"Aprobado!\")` sólo se imprimirá por pantalla si la nota es mayor o igual a 5.\n",
    "\n",
    "Vamos a ver otro ejemplo. Ahora quiero un poco más de granularidad en la nota, con bienes, notables y tal"
   ]
  },
  {
   "cell_type": "code",
   "execution_count": 19,
   "metadata": {},
   "outputs": [
    {
     "name": "stdin",
     "output_type": "stream",
     "text": [
      "Dime la nota del examen, por favor 8.5\n"
     ]
    },
    {
     "name": "stdout",
     "output_type": "stream",
     "text": [
      "Notable\n"
     ]
    }
   ],
   "source": [
    "nota = float(input(\"Dime la nota del examen, por favor\"))\n",
    "if nota < 0 or nota > 10:\n",
    "    print(\"Por favor, mete una nota válida\")\n",
    "elif nota < 5:\n",
    "    print(\"Suspendido :(\")\n",
    "elif nota < 7:\n",
    "    print(\"Bien\")\n",
    "elif nota < 9:\n",
    "    print(\"Notable\")\n",
    "else:\n",
    "    print(\"Sobresaliente\")\n"
   ]
  },
  {
   "cell_type": "markdown",
   "metadata": {},
   "source": [
    "**IMPORTANTE**. Todos los `ifs` se ejecutan secuencialmente. Por eso, en este caso no es necesario acotar tanto la nota:\n",
    "\n",
    "* Primero comprueba si es menor de 5, de ser así, suspenso.\n",
    "* Ya sabemos que es mayor o igual a 5\n",
    "* En la siguiente condición comprueba si es menor que 6, es decir, entre 5 y 6. Si es `False`, seguimos a la siguiente condición. Ahora bien, si es `True`, ejecutamos únicamente ese código y nos olvidamos de todo lo demás. Ya puede haber 150 condiciones, que si la primera es `True`, el resto es como si no existiese.\n",
    "\n",
    "Fíjate que la sintaxis es bastante intuitiva. `if` una condición, dos puntos y me ejecutas todo lo que hay aqui dentro, `elif` (acorta el `else if`), si se cumple esta otra condición, se ejecuta este otro código. Y si no se cumple ninguna de estas, ejecuta lo que haya en el `else`."
   ]
  },
  {
   "cell_type": "markdown",
   "metadata": {},
   "source": [
    "¿Recuerdas lo que viste con el *Algebra de Boole*? Este es el momento de utilizarlo. Cuando acudimos a varias condiciones dentro de un mismo `if`, tenemos que tener muy claras las operaciones binarias que estamos realizando."
   ]
  },
  {
   "cell_type": "code",
   "execution_count": 26,
   "metadata": {},
   "outputs": [
    {
     "name": "stdout",
     "output_type": "stream",
     "text": [
      "Es un ser humano\n"
     ]
    }
   ],
   "source": [
    "pico = False\n",
    "alas = False\n",
    "sonido = \"Hablar\"\n",
    "patas = 2\n",
    "\n",
    "if pico and patas == 2:\n",
    "    print(\"Es un pájaro común\")\n",
    "    if sonido == \"Graznar\":\n",
    "        print(\"Es un pinguino\")\n",
    "elif sonido == \"Ladrar\" and patas == 4:\n",
    "    print(\"Es un perro\")\n",
    "elif sonido == \"Relinchar\" and patas == 4:\n",
    "    print(\"Es un caballo\")\n",
    "elif sonido == \"Hablar\" and not alas and patas == 2:\n",
    "    print(\"Es un ser humano\")\n",
    "else:\n",
    "    print(\"Sin clasificar\")\n",
    "\n",
    "\n"
   ]
  },
  {
   "attachments": {
    "ejercicio.png": {
     "image/png": "[encoded data removed]"
    }
   },
   "cell_type": "markdown",
   "metadata": {},
   "source": [
    "![ejercicio.png](attachment:ejercicio.png)<table align=\"left\">\n",
    " <tr>\n",
    "     <td style=\"text-align:left\">\n",
    "         <h3>Ejercicio if/else</h3>\n",
    "\n",
    "El ejemplo de las notas está muy bien, pero demasiado sencillo. ¿Qué pasa si la nota es mayor de 10 o menor que 0? No parece una nota correcta. En programación hay que anticiparse a los errores. Reescribe el código para tener en cuenta esos casos, cuya nota tendrás que catalogarla como \"Nota errónea\"\n",
    "         \n",
    " </td></tr>\n",
    "</table>"
   ]
  },
  {
   "cell_type": "code",
   "execution_count": null,
   "metadata": {},
   "outputs": [],
   "source": []
  },
  {
   "attachments": {},
   "cell_type": "markdown",
   "metadata": {},
   "source": [
    "## 3. Bucle for\n",
    "[al indice](#Contenidos)  \n",
    "\n",
    "Gracias a los bucles podemos ejecutar código repetitivo, de manera bastante automática. Son muy útiles para que nuestro código no sea redundante, y también para aplicar operaciones cuando manejamos iterables. Un iterable no es más que una colección de objetos (una lista es un iterable) que podremos ir recorriendo uno a uno con el bucle `for`, y aplicar operaciones a cada elemento.\n",
    "\n",
    "La sintaxis de los bucles `for` es la siguiente:\n",
    "\n",
    "> ```Python\n",
    "> for var_ejecucion in limites_ejecucion:\n",
    ">     \"código del for\"\n",
    "> ```\n",
    "    \n",
    "    \n",
    "* **Límites de ejecución**: La cantidad de veces que queremos que se ejecute un `for`. Esto es así porque si no se ejecutarían hasta el infinito. Y además, tienen una variable de ejecución que se va actualizando. Por ejemplo del 1 al 10. Primero valdría 1, luego 2...así hasta 10.\n",
    "\n",
    "\n",
    "* **Variable de ejecución**: dentro del for habrá una variable que se irá actualizando con cada ejecución. En el ejemplo del 1 al 10, primero la variable valdrá 1, luego 2, y así hasta 10.\n",
    "\n",
    "![for-loop-python.png](./img/for-loop-python.jpg)"
   ]
  },
  {
   "cell_type": "markdown",
   "metadata": {},
   "source": [
    "Mejor vemos un ejemplo para entenderlo. Tienes las notas de tres alumnos en una lista, y quieres imprimir por pantalla las notas"
   ]
  },
  {
   "cell_type": "code",
   "execution_count": null,
   "metadata": {},
   "outputs": [],
   "source": [
    "notas = [3, 6, 9]"
   ]
  },
  {
   "cell_type": "markdown",
   "metadata": {},
   "source": [
    "Genial, pero qué ocurre si ahora tienes 30 notas, o simplemente quieres que tu programa no dependa de cuantas notas tienes, unas veces son 30, otras 20..."
   ]
  },
  {
   "cell_type": "code",
   "execution_count": 27,
   "metadata": {},
   "outputs": [
    {
     "name": "stdout",
     "output_type": "stream",
     "text": [
      "Evaluando la nota 4\n",
      "Suspendido :(\n",
      "\n",
      "Evaluando la nota 5\n",
      "Bien\n",
      "\n",
      "Evaluando la nota 7\n",
      "Notable\n",
      "\n",
      "Evaluando la nota 3\n",
      "Suspendido :(\n",
      "\n",
      "Evaluando la nota 4\n",
      "Suspendido :(\n",
      "\n",
      "Evaluando la nota 6\n",
      "Bien\n",
      "\n",
      "Evaluando la nota 5\n",
      "Bien\n",
      "\n",
      "Evaluando la nota 5\n",
      "Bien\n",
      "\n",
      "Evaluando la nota 4\n",
      "Suspendido :(\n",
      "\n",
      "Evaluando la nota 5\n",
      "Bien\n",
      "\n",
      "Evaluando la nota 5\n",
      "Bien\n",
      "\n",
      "Evaluando la nota 6\n",
      "Bien\n",
      "\n"
     ]
    }
   ],
   "source": [
    "notas_clase = [4,5,7,3,4,6,5,5,4,5,5,6]\n",
    "\n",
    "for nota in notas_clase:\n",
    "    print(\"Evaluando la nota\", nota)\n",
    "    if nota < 0 or nota > 10:\n",
    "        print(\"Por favor, mete una nota válida\")\n",
    "    elif nota < 5:\n",
    "        print(\"Suspendido :(\")\n",
    "    elif nota < 7:\n",
    "        print(\"Bien\")\n",
    "    elif nota < 9:\n",
    "        print(\"Notable\")\n",
    "    else:\n",
    "        print(\"Sobresaliente\")\n",
    "    print()"
   ]
  },
  {
   "cell_type": "code",
   "execution_count": null,
   "metadata": {},
   "outputs": [],
   "source": [
    "# Si me cambia el numero de alumnos, el for de antes me vale igual\n",
    "notas_clase = [4,5,7,3,4,6,5,5,4,5,6,7,8,7,6,4,6,5,5,4,5,6,]"
   ]
  },
  {
   "cell_type": "code",
   "execution_count": 30,
   "metadata": {},
   "outputs": [
    {
     "name": "stdout",
     "output_type": "stream",
     "text": [
      "Hoy es Lunes\n",
      "\n",
      "Hoy es Martes\n",
      "\n",
      "Hoy es Miércoles\n",
      "\n",
      "Hoy es Jueves\n",
      "\n",
      "Hoy es Viernes\n",
      "\n",
      "Hoy es Sábado . Qué haces trabajando, pringao?\n",
      "\n",
      "Hoy es Domingo . Qué haces trabajando, pringao?\n",
      "\n"
     ]
    }
   ],
   "source": [
    "# Si en vez de numeros, tenemos texto, también nos vale\n",
    "dias_semana = [\"Lunes\", \"Martes\", \"Miércoles\", \"Jueves\", \"Viernes\", \"Sábado\", \"Domingo\"]\n",
    "for dia in dias_semana:\n",
    "    if dia in [\"Sábado\",\"Domingo\"]:\n",
    "        print(\"Hoy es\",dia,\". Qué haces trabajando, pringao?\")\n",
    "    else:\n",
    "        print(\"Hoy es\",dia)\n",
    "    print()"
   ]
  },
  {
   "cell_type": "markdown",
   "metadata": {},
   "source": [
    "Todo objeto que sea **iterable**, lo podrás recorrer en un `for`. Veremos los iterables más en detalle en las colecciones."
   ]
  },
  {
   "cell_type": "code",
   "execution_count": null,
   "metadata": {},
   "outputs": [],
   "source": [
    "# Fijate que un String también es un iterable\n"
   ]
  },
  {
   "cell_type": "markdown",
   "metadata": {},
   "source": [
    "El bucle for resulta de gran utilidad para **aplicar operaciones a cada elemento**. Hasta ahora solo hemos impreso items por pantalla, pero ¿y si queremos subir la nota de todos los alumnos un punto extra? No puedo hacer `lista + 1`. Tendré que iterar/recorrer cada elemento y aplicarle la operación."
   ]
  },
  {
   "cell_type": "code",
   "execution_count": 45,
   "metadata": {},
   "outputs": [
    {
     "name": "stdout",
     "output_type": "stream",
     "text": [
      "El número de elementos en notas clase es 15 y el número de elementos en trabajo_realizado es 18\n",
      "La lista notas_clase contiene -3 elementos más que la lista trabajo_realizado\n",
      "Completando la lista notas_clase con 5.0 para los alumnos de los que no tenemos información.\n",
      "\n",
      "Indice = 0\n",
      "Evaluando la nota 4\n",
      "Trabajo realizado. Subimos nota en 1 punto\n",
      "Bien\n",
      "\n",
      "Indice = 1\n",
      "Evaluando la nota 5\n",
      "Trabajo realizado. Subimos nota en 1 punto\n",
      "Bien\n",
      "\n",
      "Indice = 2\n",
      "Evaluando la nota 7\n",
      "Trabajo realizado. Subimos nota en 1 punto\n",
      "Notable\n",
      "\n",
      "Indice = 3\n",
      "Evaluando la nota 3\n",
      "Trabajo no realizado. La nota del examen prevalece.\n",
      "Suspendido :(\n",
      "\n",
      "Indice = 4\n",
      "Evaluando la nota 4\n",
      "Trabajo no realizado. La nota del examen prevalece.\n",
      "Suspendido :(\n",
      "\n",
      "Indice = 5\n",
      "Evaluando la nota 6\n",
      "Trabajo no realizado. La nota del examen prevalece.\n",
      "Bien\n",
      "\n",
      "Indice = 6\n",
      "Evaluando la nota 5\n",
      "Trabajo realizado. Subimos nota en 1 punto\n",
      "Bien\n",
      "\n",
      "Indice = 7\n",
      "Evaluando la nota 5\n",
      "Trabajo realizado. Subimos nota en 1 punto\n",
      "Bien\n",
      "\n",
      "Indice = 8\n",
      "Evaluando la nota 4\n",
      "Trabajo realizado. Subimos nota en 1 punto\n",
      "Bien\n",
      "\n",
      "Indice = 9\n",
      "Evaluando la nota 5\n",
      "Trabajo no realizado. La nota del examen prevalece.\n",
      "Bien\n",
      "\n",
      "Indice = 10\n",
      "Evaluando la nota 5\n",
      "Trabajo no realizado. La nota del examen prevalece.\n",
      "Bien\n",
      "\n",
      "Indice = 11\n",
      "Evaluando la nota 7\n",
      "Trabajo no realizado. La nota del examen prevalece.\n",
      "Notable\n",
      "\n",
      "Indice = 12\n",
      "Evaluando la nota 10\n",
      "Trabajo no realizado. La nota del examen prevalece.\n",
      "Sobresaliente\n",
      "\n",
      "Indice = 13\n",
      "Evaluando la nota 11\n",
      "Trabajo no realizado. La nota del examen prevalece.\n",
      "Por favor, mete una nota válida\n",
      "\n",
      "Indice = 14\n",
      "Evaluando la nota 12\n",
      "Trabajo no realizado. La nota del examen prevalece.\n",
      "Por favor, mete una nota válida\n",
      "\n",
      "Indice = 15\n",
      "Evaluando la nota 5\n",
      "Trabajo no realizado. La nota del examen prevalece.\n",
      "Bien\n",
      "\n",
      "Indice = 16\n",
      "Evaluando la nota 5\n",
      "Trabajo no realizado. La nota del examen prevalece.\n",
      "Bien\n",
      "\n",
      "Indice = 17\n",
      "Evaluando la nota 5\n",
      "Trabajo no realizado. La nota del examen prevalece.\n",
      "Bien\n",
      "\n"
     ]
    }
   ],
   "source": [
    "notas_clase = [4,5,7,3,4,6,5,5,4,5,5,7,10,11,12]\n",
    "trabajo_realizado = [True,True,True,False,False,False,True,True,True,False,False,False,False,False,False,False,False,False]\n",
    "\n",
    "notas_finales = []\n",
    "diferencia_longitud_en_elementos = len(notas_clase)-len(trabajo_realizado)\n",
    "\n",
    "print(f\"El número de elementos en notas clase es {len(notas_clase)} y el número de elementos en trabajo_realizado es {len(trabajo_realizado)}\")\n",
    "print(f\"La lista notas_clase contiene {diferencia_longitud_en_elementos} elementos más que la lista trabajo_realizado\")\n",
    "# Comparamos longitud de las notas_clase y trabajo_realizado\n",
    "# Si la longitud de notas_clase es mayor que la de trabajo_realizado\n",
    "\n",
    "if len(notas_clase) > len(trabajo_realizado):\n",
    "    print(\"Completando la lista trabajo_realizado con False para los alumnos de los que no tenemos información.\")\n",
    "    for i in range(diferencia_longitud_en_elementos):\n",
    "        trabajo_realizado.append(False)\n",
    "elif len(notas_clase) < len(trabajo_realizado):\n",
    "    print(\"Completando la lista notas_clase con 5.0 para los alumnos de los que no tenemos información.\")\n",
    "    for i in range(-diferencia_longitud_en_elementos):\n",
    "        notas_clase.append(5)\n",
    "print()\n",
    "\n",
    "for indice in range(len(notas_clase)):\n",
    "    print(f\"Indice = {indice}\")\n",
    "    nota = notas_clase[indice]\n",
    "    print(\"Evaluando la nota\", nota)\n",
    "    if trabajo_realizado[indice]:\n",
    "        nota += 1\n",
    "        notas_finales.append(nota)\n",
    "        print(\"Trabajo realizado. Subimos nota en 1 punto\")\n",
    "    else:\n",
    "        print(\"Trabajo no realizado. La nota del examen prevalece.\")\n",
    "    if nota < 0 or nota > 10:\n",
    "        print(\"Por favor, mete una nota válida\")\n",
    "    elif nota < 5:\n",
    "        print(\"Suspendido :(\")\n",
    "    elif nota < 7:\n",
    "        print(\"Bien\")\n",
    "    elif nota < 9:\n",
    "        print(\"Notable\")\n",
    "    else:\n",
    "        print(\"Sobresaliente\")\n",
    "    print()"
   ]
  },
  {
   "cell_type": "markdown",
   "metadata": {},
   "source": [
    "### Función range\n",
    "Es muy común usar la función `range()` en las condiciones de un bucle. Esta función puede funcionar con un único argumento numérico y su output es un **iterable**, comprendido entre el 0 y el número introducido como argumento.\n",
    "\n",
    "Verás en [la documentación](https://www.w3schools.com/python/ref_func_range.asp) que `range()` tiene más posibilidades, combinando sus argumentos."
   ]
  },
  {
   "cell_type": "code",
   "execution_count": 60,
   "metadata": {},
   "outputs": [
    {
     "name": "stdout",
     "output_type": "stream",
     "text": [
      "10\n",
      "9\n",
      "8\n",
      "7\n",
      "6\n",
      "5\n",
      "4\n",
      "3\n",
      "2\n",
      "1\n",
      "0\n",
      "Despegando...\n",
      "[10, 9, 8, 7, 5, 5, 4, 4, 4, 3, 3, 3, 2, 2, 1]\n"
     ]
    }
   ],
   "source": [
    "for i in range(10,-1,-1):\n",
    "    print(i)\n",
    "    if i == 0: \n",
    "        print(\"Despegando...\")\n",
    "\n",
    "\n",
    "lista = [2,3,4,5,3,2,1,4,5,9,3,4,7,8,10]\n",
    "lista.sort(reverse=True)\n",
    "print(lista)"
   ]
  },
  {
   "cell_type": "markdown",
   "metadata": {},
   "source": [
    "En ocasiones nos interesa iterar sobre la posición que tiene cada elemento dentro de un iterable. Para ello podemos combinar `range` con `len` dentro de las condiciones del bucle"
   ]
  },
  {
   "cell_type": "code",
   "execution_count": null,
   "metadata": {},
   "outputs": [],
   "source": []
  },
  {
   "cell_type": "markdown",
   "metadata": {},
   "source": [
    "### Función enumerate\n",
    "¿Y si dentro del bucle necesitamos tanto el elemento del iterable, como su índice? En [la documentación](https://www.w3schools.com/python/ref_func_enumerate.asp) verás que puedes elegir desde qué elemento de la lista quieres empezar."
   ]
  },
  {
   "cell_type": "code",
   "execution_count": null,
   "metadata": {},
   "outputs": [],
   "source": []
  },
  {
   "cell_type": "code",
   "execution_count": null,
   "metadata": {},
   "outputs": [],
   "source": []
  },
  {
   "cell_type": "code",
   "execution_count": null,
   "metadata": {},
   "outputs": [],
   "source": []
  },
  {
   "cell_type": "markdown",
   "metadata": {},
   "source": [
    "<table align=\"left\">\n",
    " <tr>\n",
    "     <td style=\"text-align:left\">\n",
    "         <h3>ERRORES en los rangos</h3>\n",
    "         \n",
    " </td></tr>\n",
    "</table>"
   ]
  },
  {
   "cell_type": "markdown",
   "metadata": {},
   "source": [
    "Mucho cuidado al escribir las condiciones del bucle. Lo primero, porque podríamos tener condiciones infinitas de ejecución que ni nosotros, ni nuestro ordenador lo deseamos. Y lo segundo porque si intentamos acceder a un índice de nuestro iterable que no existe, saltará un error. Veamos ejemplo"
   ]
  },
  {
   "cell_type": "code",
   "execution_count": null,
   "metadata": {},
   "outputs": [],
   "source": []
  },
  {
   "cell_type": "markdown",
   "metadata": {},
   "source": [
    "Es por ello que se recomienda dejar el código lo más \"en automático\" posible. Poner en el range la longitud del iterable no es una buena práctica, ¿Y si mañana el iterable tiene menos nombres? saltará error. ¿Y si tiene más? No los tendremos en cuenta en el for. Por ello es mejor usar `len`."
   ]
  },
  {
   "attachments": {
    "ejercicio.png": {
     "image/png": "[encoded data removed]"
    }
   },
   "cell_type": "markdown",
   "metadata": {},
   "source": [
    "![ejercicio.png](attachment:ejercicio.png)<table align=\"left\">\n",
    " <tr>\n",
    "     <td style=\"text-align:left\">\n",
    "         <h3>Ejercicio bucle for</h3>\n",
    "\n",
    "Recorre la siguiente lista con un for, imprime únicamente los elementos múltiplos de 3\n",
    "         \n",
    " </td></tr>\n",
    "</table>"
   ]
  },
  {
   "cell_type": "code",
   "execution_count": 61,
   "metadata": {},
   "outputs": [
    {
     "name": "stdout",
     "output_type": "stream",
     "text": [
      "3 es múltiplo de 3\n",
      "6 es múltiplo de 3\n",
      "6 es múltiplo de 3\n",
      "3 es múltiplo de 3\n",
      "9 es múltiplo de 3\n"
     ]
    }
   ],
   "source": [
    "nums_bucle = [5, 7, 3, 4, 2, 4, 7, 6, 10, 1, 6, 3, 5, 9]\n",
    "for num in nums_bucle:\n",
    "    resto = num % 3\n",
    "    if resto == 0:\n",
    "        print(num,\"es múltiplo de 3\")"
   ]
  },
  {
   "cell_type": "code",
   "execution_count": null,
   "metadata": {},
   "outputs": [],
   "source": []
  },
  {
   "cell_type": "code",
   "execution_count": null,
   "metadata": {},
   "outputs": [],
   "source": []
  }
 ],
 "metadata": {
  "kernelspec": {
   "display_name": "Python 3 (ipykernel)",
   "language": "python",
   "name": "python3"
  },
  "language_info": {
   "codemirror_mode": {
    "name": "ipython",
    "version": 3
   },
   "file_extension": ".py",
   "mimetype": "text/x-python",
   "name": "python",
   "nbconvert_exporter": "python",
   "pygments_lexer": "ipython3",
   "version": "3.12.1"
  }
 },
 "nbformat": 4,
 "nbformat_minor": 4
}
